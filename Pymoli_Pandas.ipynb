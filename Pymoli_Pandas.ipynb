{
 "cells": [
  {
   "cell_type": "code",
   "execution_count": 1,
   "metadata": {
    "collapsed": true
   },
   "outputs": [],
   "source": [
    "# Modules\n",
    "import pandas as pd"
   ]
  },
  {
   "cell_type": "code",
   "execution_count": 2,
   "metadata": {},
   "outputs": [
    {
     "name": "stdout",
     "output_type": "stream",
     "text": [
      "purchase_data.json\n",
      "purchase_data2.json\n",
      "Pymoli_Pandas.ipynb\n"
     ]
    }
   ],
   "source": [
    "!ls"
   ]
  },
  {
   "cell_type": "code",
   "execution_count": 3,
   "metadata": {
    "collapsed": true
   },
   "outputs": [],
   "source": [
    "# Read JSON files\n",
    "\n",
    "json_path = 'purchase_data.json'\n",
    "df = pd.read_json(json_path)"
   ]
  },
  {
   "cell_type": "code",
   "execution_count": 4,
   "metadata": {},
   "outputs": [
    {
     "data": {
      "text/plain": [
       "['Age', 'Gender', 'Item ID', 'Item Name', 'Price', 'SN']"
      ]
     },
     "execution_count": 4,
     "metadata": {},
     "output_type": "execute_result"
    }
   ],
   "source": [
    "# Show columns\n",
    "\n",
    "df.columns.tolist()"
   ]
  },
  {
   "cell_type": "code",
   "execution_count": 21,
   "metadata": {
    "collapsed": true
   },
   "outputs": [],
   "source": [
    "# Rename columns\n",
    "\n",
    "rename_df = df.columns=['Age', 'Gender','Item_id','Item_name','Price','SN']"
   ]
  },
  {
   "cell_type": "code",
   "execution_count": 22,
   "metadata": {},
   "outputs": [
    {
     "data": {
      "text/plain": [
       "['Age', 'Gender', 'Item_id', 'Item_name', 'Price', 'SN']"
      ]
     },
     "execution_count": 22,
     "metadata": {},
     "output_type": "execute_result"
    }
   ],
   "source": [
    "rename_df"
   ]
  },
  {
   "cell_type": "code",
   "execution_count": 23,
   "metadata": {},
   "outputs": [
    {
     "data": {
      "text/html": [
       "<div>\n",
       "<style>\n",
       "    .dataframe thead tr:only-child th {\n",
       "        text-align: right;\n",
       "    }\n",
       "\n",
       "    .dataframe thead th {\n",
       "        text-align: left;\n",
       "    }\n",
       "\n",
       "    .dataframe tbody tr th {\n",
       "        vertical-align: top;\n",
       "    }\n",
       "</style>\n",
       "<table border=\"1\" class=\"dataframe\">\n",
       "  <thead>\n",
       "    <tr style=\"text-align: right;\">\n",
       "      <th></th>\n",
       "      <th>Number of Players</th>\n",
       "    </tr>\n",
       "  </thead>\n",
       "  <tbody>\n",
       "    <tr>\n",
       "      <th>0</th>\n",
       "      <td>780</td>\n",
       "    </tr>\n",
       "  </tbody>\n",
       "</table>\n",
       "</div>"
      ],
      "text/plain": [
       "   Number of Players\n",
       "0                780"
      ]
     },
     "execution_count": 23,
     "metadata": {},
     "output_type": "execute_result"
    }
   ],
   "source": [
    "# Total numbers of players\n",
    "\n",
    "player_count = len(df)\n",
    "count_df = pd.DataFrame({'Number of Players':[player_count]})\n",
    "count_df"
   ]
  },
  {
   "cell_type": "code",
   "execution_count": 25,
   "metadata": {},
   "outputs": [],
   "source": [
    "# Number of Unique Items\n",
    "\n",
    "unique_items = df.Item_name.unique()\n",
    "num_unique_items = len(unique_items)"
   ]
  },
  {
   "cell_type": "code",
   "execution_count": 27,
   "metadata": {},
   "outputs": [],
   "source": [
    "# Average Purchase Price\n",
    "average_price = round(df.Price.mean(),2)"
   ]
  },
  {
   "cell_type": "code",
   "execution_count": 28,
   "metadata": {
    "collapsed": true
   },
   "outputs": [],
   "source": [
    "# Total Number of Purchases\n",
    "total_purchase_number = len(df.Price)"
   ]
  },
  {
   "cell_type": "code",
   "execution_count": 29,
   "metadata": {
    "collapsed": true
   },
   "outputs": [],
   "source": [
    "# Total Revenue\n",
    "total_revenue = round(df.Price.sum(),0)"
   ]
  },
  {
   "cell_type": "code",
   "execution_count": 30,
   "metadata": {},
   "outputs": [
    {
     "data": {
      "text/html": [
       "<div>\n",
       "<style>\n",
       "    .dataframe thead tr:only-child th {\n",
       "        text-align: right;\n",
       "    }\n",
       "\n",
       "    .dataframe thead th {\n",
       "        text-align: left;\n",
       "    }\n",
       "\n",
       "    .dataframe tbody tr th {\n",
       "        vertical-align: top;\n",
       "    }\n",
       "</style>\n",
       "<table border=\"1\" class=\"dataframe\">\n",
       "  <thead>\n",
       "    <tr style=\"text-align: right;\">\n",
       "      <th></th>\n",
       "      <th>Number of Unique Items</th>\n",
       "      <th>Average Pirce</th>\n",
       "      <th>Number of Purchases</th>\n",
       "      <th>Total Revenue</th>\n",
       "    </tr>\n",
       "  </thead>\n",
       "  <tbody>\n",
       "    <tr>\n",
       "      <th>0</th>\n",
       "      <td>179</td>\n",
       "      <td>$2.93</td>\n",
       "      <td>780</td>\n",
       "      <td>$2286.0</td>\n",
       "    </tr>\n",
       "  </tbody>\n",
       "</table>\n",
       "</div>"
      ],
      "text/plain": [
       "   Number of Unique Items Average Pirce  Number of Purchases Total Revenue\n",
       "0                     179         $2.93                  780       $2286.0"
      ]
     },
     "execution_count": 30,
     "metadata": {},
     "output_type": "execute_result"
    }
   ],
   "source": [
    "purchasing_analysis_df = pd.DataFrame({'Number of Unique Items':[num_unique_items], 'Average Pirce': [average_price],\n",
    "                                      'Number of Purchases': [total_purchase_number], 'Total Revenue':[total_revenue]})\n",
    "purchasing_analysis_df['Average Pirce'] = '$' + purchasing_analysis_df['Average Pirce'].astype(str)\n",
    "purchasing_analysis_df['Total Revenue'] = '$' + purchasing_analysis_df['Total Revenue'].astype(str)\n",
    "\n",
    "purchasing_analysis_df = purchasing_analysis_df[['Number of Unique Items', 'Average Pirce', \n",
    "                                                 'Number of Purchases', 'Total Revenue']]\n",
    "purchasing_analysis_df"
   ]
  },
  {
   "cell_type": "code",
   "execution_count": 31,
   "metadata": {},
   "outputs": [],
   "source": [
    "# Percentage/Count of Male Players\n",
    "\n",
    "gender_total = len(df.Gender)\n",
    "\n",
    "male_count = len(df[df['Gender'] == 'Male'])\n",
    "\n",
    "percent_male = round((male_count/gender_total)*100,2)\n",
    "\n",
    "data_male = {'Percentage of Players':[percent_male], 'Total Count':[male_count]}\n",
    "male_df = pd.DataFrame(data_male, index = ['Male'])"
   ]
  },
  {
   "cell_type": "code",
   "execution_count": 32,
   "metadata": {
    "collapsed": true
   },
   "outputs": [],
   "source": [
    "# Percentage/Count of Female Players\n",
    "\n",
    "female_count = len(df[df['Gender'] == 'Female'])\n",
    "percent_female = round((female_count/gender_total)*100,2)\n",
    "data_female = {'Percentage of Players':[percent_female], 'Total Count':[female_count]}\n",
    "female_df = pd.DataFrame(data_female, index = ['Female'])"
   ]
  },
  {
   "cell_type": "code",
   "execution_count": 33,
   "metadata": {
    "collapsed": true
   },
   "outputs": [],
   "source": [
    "# Percentage/Count of Other / Non-Disclosed\n",
    "\n",
    "other_count = len(df[(df['Gender'] != 'Male') & (df['Gender'] != 'Female')])\n",
    "percent_other = round((other_count/gender_total)*100,2)\n",
    "data_other = {'Percentage of Players':[percent_other], 'Total Count':[other_count]}\n",
    "other_df = pd.DataFrame(data_other, index = ['Other / Non-Disclosed'])"
   ]
  },
  {
   "cell_type": "code",
   "execution_count": 34,
   "metadata": {},
   "outputs": [
    {
     "data": {
      "text/html": [
       "<div>\n",
       "<style>\n",
       "    .dataframe thead tr:only-child th {\n",
       "        text-align: right;\n",
       "    }\n",
       "\n",
       "    .dataframe thead th {\n",
       "        text-align: left;\n",
       "    }\n",
       "\n",
       "    .dataframe tbody tr th {\n",
       "        vertical-align: top;\n",
       "    }\n",
       "</style>\n",
       "<table border=\"1\" class=\"dataframe\">\n",
       "  <thead>\n",
       "    <tr style=\"text-align: right;\">\n",
       "      <th></th>\n",
       "      <th>Percentage of Players</th>\n",
       "      <th>Total Count</th>\n",
       "    </tr>\n",
       "  </thead>\n",
       "  <tbody>\n",
       "    <tr>\n",
       "      <th>Male</th>\n",
       "      <td>81.15%</td>\n",
       "      <td>633</td>\n",
       "    </tr>\n",
       "    <tr>\n",
       "      <th>Female</th>\n",
       "      <td>17.44%</td>\n",
       "      <td>136</td>\n",
       "    </tr>\n",
       "    <tr>\n",
       "      <th>Other / Non-Disclosed</th>\n",
       "      <td>1.41%</td>\n",
       "      <td>11</td>\n",
       "    </tr>\n",
       "  </tbody>\n",
       "</table>\n",
       "</div>"
      ],
      "text/plain": [
       "                      Percentage of Players  Total Count\n",
       "Male                                 81.15%          633\n",
       "Female                               17.44%          136\n",
       "Other / Non-Disclosed                 1.41%           11"
      ]
     },
     "execution_count": 34,
     "metadata": {},
     "output_type": "execute_result"
    }
   ],
   "source": [
    "# Table Result\n",
    "\n",
    "frames_demographic = [male_df, female_df, other_df]\n",
    "\n",
    "result_demographic  = pd.concat(frames_demographic)\n",
    "\n",
    "result_demographic['Percentage of Players'] = result_demographic['Percentage of Players'].astype(str) + '%'\n",
    "\n",
    "result_demographic"
   ]
  },
  {
   "cell_type": "code",
   "execution_count": 35,
   "metadata": {
    "collapsed": true
   },
   "outputs": [],
   "source": [
    "data_size= len(df)\n",
    "df.Age.min()\n",
    "df.Age.max()\n",
    "less_10 = df[df['Age'] < 10]\n",
    "\n",
    "size_10 = len(less_10)\n",
    "percent_10 = round((size_10/data_size)*100,2)\n",
    "mean_price_10 = round(less_10.Price.mean(),2)\n",
    "total_purchase_10 = round(less_10.Price.sum(),2)"
   ]
  },
  {
   "cell_type": "code",
   "execution_count": 36,
   "metadata": {},
   "outputs": [
    {
     "name": "stderr",
     "output_type": "stream",
     "text": [
      "C:\\Users\\JChavez\\AppData\\Local\\Continuum\\anaconda3\\lib\\site-packages\\ipykernel_launcher.py:4: SettingWithCopyWarning: \n",
      "A value is trying to be set on a copy of a slice from a DataFrame.\n",
      "Try using .loc[row_indexer,col_indexer] = value instead\n",
      "\n",
      "See the caveats in the documentation: http://pandas.pydata.org/pandas-docs/stable/indexing.html#indexing-view-versus-copy\n",
      "  after removing the cwd from sys.path.\n"
     ]
    },
    {
     "data": {
      "text/plain": [
       "2.98"
      ]
     },
     "execution_count": 36,
     "metadata": {},
     "output_type": "execute_result"
    }
   ],
   "source": [
    "mean_price_10 = round(less_10.Price.dropna().mean(),2)\n",
    "max_price_10 = less_10.Price.dropna().max()\n",
    "min_price_10 = less_10.Price.dropna().min()\n",
    "less_10['Price'] = less_10['Price'] - mean_price_10\n",
    "normalized_price_constant_10 = less_10['Price'].mean()\n",
    "normalized_price_10 = round(mean_price_10 - normalized_price_constant_10,2)\n",
    "normalized_price_10"
   ]
  },
  {
   "cell_type": "code",
   "execution_count": 37,
   "metadata": {
    "collapsed": true
   },
   "outputs": [],
   "source": [
    "\n",
    "percent_10_df = {'Percentage of Players':[percent_10], 'Total Count':[size_10]}\n",
    "percent_10_df = pd.DataFrame(percent_10_df, index = ['<10'])"
   ]
  },
  {
   "cell_type": "code",
   "execution_count": 38,
   "metadata": {
    "collapsed": true
   },
   "outputs": [],
   "source": [
    "percent_10_df_analysis = {'Average Purchased Price':[mean_price_10], 'Purchase Count':[size_10],\n",
    "                         'Total Purchase Value': [total_purchase_10], 'Normalized Total': [normalized_price_10]}\n",
    "\n",
    "percent_10_df_analysis = pd.DataFrame(percent_10_df_analysis, index = ['<10'])\n",
    "\n",
    "percent_10_df_analysis = percent_10_df_analysis[['Purchase Count', 'Average Purchased Price', \n",
    "                                                 'Total Purchase Value', 'Normalized Total']]"
   ]
  },
  {
   "cell_type": "code",
   "execution_count": 39,
   "metadata": {
    "collapsed": true
   },
   "outputs": [],
   "source": [
    "btw_10_14 = df[(df['Age'] >= 10) & (df['Age'] <15)]\n",
    "size_btw_10_14 = len(btw_10_14)\n",
    "percent_btw_10_14 = round((size_btw_10_14/data_size)*100,2)\n",
    "mean_price_btw_10_14 = round(btw_10_14.Price.mean(),2)\n",
    "total_purchase_btw_10_14 = round(btw_10_14.Price.sum(),2)"
   ]
  },
  {
   "cell_type": "code",
   "execution_count": 40,
   "metadata": {},
   "outputs": [
    {
     "name": "stderr",
     "output_type": "stream",
     "text": [
      "C:\\Users\\JChavez\\AppData\\Local\\Continuum\\anaconda3\\lib\\site-packages\\ipykernel_launcher.py:4: SettingWithCopyWarning: \n",
      "A value is trying to be set on a copy of a slice from a DataFrame.\n",
      "Try using .loc[row_indexer,col_indexer] = value instead\n",
      "\n",
      "See the caveats in the documentation: http://pandas.pydata.org/pandas-docs/stable/indexing.html#indexing-view-versus-copy\n",
      "  after removing the cwd from sys.path.\n"
     ]
    },
    {
     "data": {
      "text/plain": [
       "2.77"
      ]
     },
     "execution_count": 40,
     "metadata": {},
     "output_type": "execute_result"
    }
   ],
   "source": [
    "mean_btw_10_14 = round(btw_10_14.Price.dropna().mean(),2)\n",
    "max_btw_10_14 = btw_10_14.Price.dropna().max()\n",
    "min_btw_10_14 = btw_10_14.Price.dropna().min()\n",
    "btw_10_14['Price'] = btw_10_14['Price'] - mean_price_btw_10_14\n",
    "normalized_price_constant_btw_10_14 = btw_10_14['Price'].mean()\n",
    "normalized_price_btw_10_14 = round(mean_price_btw_10_14 - normalized_price_constant_btw_10_14,2)\n",
    "normalized_price_btw_10_14"
   ]
  },
  {
   "cell_type": "code",
   "execution_count": 43,
   "metadata": {
    "collapsed": true
   },
   "outputs": [],
   "source": [
    "percent_btw_10_14_df = {'Percentage of Players':[percent_btw_10_14], 'Total Count':[size_btw_10_14]}\n",
    "percent_btw_10_14_df = pd.DataFrame(percent_btw_10_14_df, index = ['10 - 14'])"
   ]
  },
  {
   "cell_type": "code",
   "execution_count": 44,
   "metadata": {},
   "outputs": [],
   "source": [
    "percent_btw_10_14_df_analysis = {'Average Purchased Price':[mean_price_btw_10_14], 'Purchase Count':[size_btw_10_14],\n",
    "                         'Total Purchase Value': [total_purchase_btw_10_14], 'Normalized Total': [normalized_price_btw_10_14]}\n",
    "\n",
    "percent_btw_10_14_df_analysis = pd.DataFrame(percent_btw_10_14_df_analysis, index = ['10 - 14'])\n",
    "\n",
    "percent_btw_10_14_df_analysis = percent_btw_10_14_df_analysis[['Purchase Count', 'Average Purchased Price', 'Total Purchase Value', 'Normalized Total']]"
   ]
  },
  {
   "cell_type": "code",
   "execution_count": 45,
   "metadata": {
    "collapsed": true
   },
   "outputs": [],
   "source": [
    "btw_15_19 = df[(df['Age'] >= 15) & (df['Age'] <20)]\n",
    "size_btw_15_19  = len(btw_15_19 )\n",
    "percent_btw_15_19 = round((size_btw_15_19/data_size)*100,2)\n",
    "mean_price_btw_15_19 = round(btw_15_19.Price.mean(),2)\n",
    "total_purchase_btw_15_19 = round(btw_15_19.Price.sum(),2)"
   ]
  },
  {
   "cell_type": "code",
   "execution_count": 46,
   "metadata": {},
   "outputs": [
    {
     "name": "stderr",
     "output_type": "stream",
     "text": [
      "C:\\Users\\JChavez\\AppData\\Local\\Continuum\\anaconda3\\lib\\site-packages\\ipykernel_launcher.py:4: SettingWithCopyWarning: \n",
      "A value is trying to be set on a copy of a slice from a DataFrame.\n",
      "Try using .loc[row_indexer,col_indexer] = value instead\n",
      "\n",
      "See the caveats in the documentation: http://pandas.pydata.org/pandas-docs/stable/indexing.html#indexing-view-versus-copy\n",
      "  after removing the cwd from sys.path.\n"
     ]
    },
    {
     "data": {
      "text/plain": [
       "2.91"
      ]
     },
     "execution_count": 46,
     "metadata": {},
     "output_type": "execute_result"
    }
   ],
   "source": [
    "mean_btw_15_19 = round(btw_15_19.Price.dropna().mean(),2)\n",
    "max_btw_15_19 = btw_15_19.Price.dropna().max()\n",
    "min_btw_15_19 = btw_15_19.Price.dropna().min()\n",
    "btw_15_19['Price'] = btw_15_19['Price'] - mean_price_btw_15_19\n",
    "normalized_price_constant_btw_15_19 = btw_15_19['Price'].mean()\n",
    "normalized_price_btw_15_19 = round(mean_price_btw_15_19 - normalized_price_constant_btw_15_19,2)\n",
    "normalized_price_btw_15_19"
   ]
  },
  {
   "cell_type": "code",
   "execution_count": 47,
   "metadata": {
    "collapsed": true
   },
   "outputs": [],
   "source": [
    "percent_btw_15_19_df = {'Percentage of Players':[percent_btw_15_19], 'Total Count':[size_btw_15_19]}\n",
    "percent_btw_15_19_df = pd.DataFrame(percent_btw_15_19_df, index = ['15 - 19'])"
   ]
  },
  {
   "cell_type": "code",
   "execution_count": 48,
   "metadata": {
    "collapsed": true
   },
   "outputs": [],
   "source": [
    "percent_btw_15_19_df_analysis = {'Average Purchased Price':[mean_price_btw_15_19], 'Purchase Count':[size_btw_15_19],\n",
    "                         'Total Purchase Value': [total_purchase_btw_15_19], 'Normalized Total': [normalized_price_btw_15_19]}\n",
    "\n",
    "percent_btw_15_19_df_analysis = pd.DataFrame(percent_btw_15_19_df_analysis, index = ['15 - 19'])\n",
    "\n",
    "percent_btw_15_19_df_analysis = percent_btw_15_19_df_analysis[['Purchase Count', 'Average Purchased Price', \n",
    "                                                 'Total Purchase Value', 'Normalized Total']]"
   ]
  },
  {
   "cell_type": "code",
   "execution_count": 49,
   "metadata": {
    "collapsed": true
   },
   "outputs": [],
   "source": [
    "btw_19_24 = df[(df['Age'] >= 20) & (df['Age'] <25)]"
   ]
  },
  {
   "cell_type": "code",
   "execution_count": 50,
   "metadata": {
    "collapsed": true
   },
   "outputs": [],
   "source": [
    "size_btw_19_24  = len(btw_19_24 )\n",
    "percent_btw_19_24 = round((size_btw_19_24/data_size)*100,2)\n",
    "mean_price_btw_19_24 = round(btw_19_24.Price.mean(),2)\n",
    "total_purchase_btw_19_24 = round(btw_19_24.Price.sum(),2)"
   ]
  },
  {
   "cell_type": "code",
   "execution_count": 51,
   "metadata": {},
   "outputs": [
    {
     "name": "stderr",
     "output_type": "stream",
     "text": [
      "C:\\Users\\JChavez\\AppData\\Local\\Continuum\\anaconda3\\lib\\site-packages\\ipykernel_launcher.py:4: SettingWithCopyWarning: \n",
      "A value is trying to be set on a copy of a slice from a DataFrame.\n",
      "Try using .loc[row_indexer,col_indexer] = value instead\n",
      "\n",
      "See the caveats in the documentation: http://pandas.pydata.org/pandas-docs/stable/indexing.html#indexing-view-versus-copy\n",
      "  after removing the cwd from sys.path.\n"
     ]
    },
    {
     "data": {
      "text/plain": [
       "2.91"
      ]
     },
     "execution_count": 51,
     "metadata": {},
     "output_type": "execute_result"
    }
   ],
   "source": [
    "mean_btw_19_24 = round(btw_19_24.Price.dropna().mean(),2)\n",
    "max_btw_19_24 = btw_19_24.Price.dropna().max()\n",
    "min_btw_19_24 = btw_19_24.Price.dropna().min()\n",
    "btw_19_24['Price'] = btw_19_24['Price'] - mean_price_btw_19_24\n",
    "normalized_price_constant_btw_19_24 = btw_19_24['Price'].mean()\n",
    "normalized_price_btw_19_24 = round(mean_price_btw_19_24 - normalized_price_constant_btw_19_24,2)\n",
    "normalized_price_btw_19_24"
   ]
  },
  {
   "cell_type": "code",
   "execution_count": 52,
   "metadata": {
    "collapsed": true
   },
   "outputs": [],
   "source": [
    "\n",
    "percent_btw_19_24_df = {'Percentage of Players':[percent_btw_19_24], 'Total Count':[size_btw_19_24]}\n",
    "percent_btw_19_24_df = pd.DataFrame(percent_btw_19_24_df, index = ['20 - 24'])"
   ]
  },
  {
   "cell_type": "code",
   "execution_count": 53,
   "metadata": {
    "collapsed": true
   },
   "outputs": [],
   "source": [
    "percent_btw_19_24_df_analysis = {'Average Purchased Price':[mean_price_btw_19_24], 'Purchase Count':[size_btw_19_24],\n",
    "                         'Total Purchase Value': [total_purchase_btw_19_24], 'Normalized Total': [normalized_price_btw_19_24]}\n",
    "\n",
    "percent_btw_19_24_df_analysis = pd.DataFrame(percent_btw_19_24_df_analysis, index = ['20 - 24'])\n",
    "\n",
    "percent_btw_19_24_df_analysis = percent_btw_19_24_df_analysis[['Purchase Count', 'Average Purchased Price', \n",
    "                                                 'Total Purchase Value', 'Normalized Total']]"
   ]
  },
  {
   "cell_type": "code",
   "execution_count": 54,
   "metadata": {
    "collapsed": true
   },
   "outputs": [],
   "source": [
    "btw_25_29 = df[(df['Age'] >= 25) & (df['Age'] <30)]\n",
    "size_btw_25_29  = len(btw_25_29)\n",
    "percent_btw_25_29 = round((size_btw_25_29/data_size)*100,2)\n",
    "mean_price_btw_25_29 = round(btw_25_29.Price.mean(),2)\n",
    "total_purchase_btw_25_29 = round(btw_25_29.Price.sum(),2)"
   ]
  },
  {
   "cell_type": "code",
   "execution_count": 55,
   "metadata": {
    "scrolled": true
   },
   "outputs": [
    {
     "name": "stderr",
     "output_type": "stream",
     "text": [
      "C:\\Users\\JChavez\\AppData\\Local\\Continuum\\anaconda3\\lib\\site-packages\\ipykernel_launcher.py:5: SettingWithCopyWarning: \n",
      "A value is trying to be set on a copy of a slice from a DataFrame.\n",
      "Try using .loc[row_indexer,col_indexer] = value instead\n",
      "\n",
      "See the caveats in the documentation: http://pandas.pydata.org/pandas-docs/stable/indexing.html#indexing-view-versus-copy\n",
      "  \"\"\"\n"
     ]
    },
    {
     "data": {
      "text/plain": [
       "2.96"
      ]
     },
     "execution_count": 55,
     "metadata": {},
     "output_type": "execute_result"
    }
   ],
   "source": [
    "\n",
    "mean_btw_25_29 = round(btw_25_29.Price.dropna().mean(),2)\n",
    "max_btw_25_29 = btw_25_29.Price.dropna().max()\n",
    "min_btw_25_29 = btw_25_29.Price.dropna().min()\n",
    "btw_25_29['Price'] = btw_25_29['Price'] - mean_price_btw_25_29\n",
    "normalized_price_constant_btw_25_29 = btw_25_29['Price'].mean()\n",
    "normalized_price_btw_25_29 = round(mean_price_btw_25_29 - normalized_price_constant_btw_25_29,2)\n",
    "normalized_price_btw_25_29"
   ]
  },
  {
   "cell_type": "code",
   "execution_count": 56,
   "metadata": {
    "collapsed": true
   },
   "outputs": [],
   "source": [
    "percent_btw_25_29_df = {'Percentage of Players':[percent_btw_25_29], 'Total Count':[size_btw_25_29]}\n",
    "percent_btw_25_29_df = pd.DataFrame(percent_btw_25_29_df, index = ['25 - 29'])"
   ]
  },
  {
   "cell_type": "code",
   "execution_count": 57,
   "metadata": {
    "collapsed": true
   },
   "outputs": [],
   "source": [
    "\n",
    "percent_btw_25_29_df_analysis = {'Average Purchased Price':[mean_price_btw_25_29], 'Purchase Count':[size_btw_25_29],\n",
    "                         'Total Purchase Value': [total_purchase_btw_25_29], 'Normalized Total': [normalized_price_btw_25_29]}\n",
    "\n",
    "percent_btw_25_29_df_analysis = pd.DataFrame(percent_btw_25_29_df_analysis, index = ['25 - 29'])\n",
    "\n",
    "percent_btw_25_29_df_analysis = percent_btw_25_29_df_analysis[['Purchase Count', 'Average Purchased Price', \n",
    "                                                 'Total Purchase Value', 'Normalized Total']]\n"
   ]
  },
  {
   "cell_type": "code",
   "execution_count": 58,
   "metadata": {
    "collapsed": true
   },
   "outputs": [],
   "source": [
    "btw_30_34 = df[(df['Age'] >= 30) & (df['Age'] <34)]\n",
    "size_btw_30_34  = len(btw_30_34)\n",
    "percent_btw_30_34 = round((size_btw_30_34/data_size)*100,2)\n",
    "mean_price_btw_30_34 = round(btw_30_34.Price.mean(),2)\n",
    "total_purchase_btw_30_34 = round(btw_30_34.Price.sum(),2)"
   ]
  },
  {
   "cell_type": "code",
   "execution_count": 59,
   "metadata": {},
   "outputs": [
    {
     "name": "stderr",
     "output_type": "stream",
     "text": [
      "C:\\Users\\JChavez\\AppData\\Local\\Continuum\\anaconda3\\lib\\site-packages\\ipykernel_launcher.py:4: SettingWithCopyWarning: \n",
      "A value is trying to be set on a copy of a slice from a DataFrame.\n",
      "Try using .loc[row_indexer,col_indexer] = value instead\n",
      "\n",
      "See the caveats in the documentation: http://pandas.pydata.org/pandas-docs/stable/indexing.html#indexing-view-versus-copy\n",
      "  after removing the cwd from sys.path.\n"
     ]
    },
    {
     "data": {
      "text/plain": [
       "3.09"
      ]
     },
     "execution_count": 59,
     "metadata": {},
     "output_type": "execute_result"
    }
   ],
   "source": [
    "mean_btw_30_34 = round(btw_30_34.Price.dropna().mean(),2)\n",
    "max_btw_30_34 = btw_30_34.Price.dropna().max()\n",
    "min_btw_30_34 = btw_30_34.Price.dropna().min()\n",
    "btw_30_34['Price'] = btw_30_34['Price'] - mean_price_btw_30_34\n",
    "normalized_price_constant_btw_30_34 = btw_30_34['Price'].mean()\n",
    "normalized_price_btw_30_34 = round(mean_price_btw_30_34 - normalized_price_constant_btw_30_34,2)\n",
    "normalized_price_btw_30_34"
   ]
  },
  {
   "cell_type": "code",
   "execution_count": 60,
   "metadata": {
    "collapsed": true
   },
   "outputs": [],
   "source": [
    "percent_btw_30_34_df = {'Percentage of Players':[percent_btw_30_34], 'Total Count':[size_btw_30_34]}\n",
    "percent_btw_30_34_df = pd.DataFrame(percent_btw_30_34_df, index = ['29 - 34'])"
   ]
  },
  {
   "cell_type": "code",
   "execution_count": 61,
   "metadata": {
    "collapsed": true
   },
   "outputs": [],
   "source": [
    "percent_btw_30_34_df_analysis = {'Average Purchased Price':[mean_price_btw_30_34], 'Purchase Count':[size_btw_30_34],\n",
    "                         'Total Purchase Value': [total_purchase_btw_30_34], 'Normalized Total': [normalized_price_btw_30_34]}\n",
    "\n",
    "percent_btw_30_34_df_analysis = pd.DataFrame(percent_btw_30_34_df_analysis, index = ['29 - 34'])\n",
    "\n",
    "percent_btw_30_34_df_analysis = percent_btw_30_34_df_analysis[['Purchase Count', 'Average Purchased Price', \n",
    "                                                 'Total Purchase Value', 'Normalized Total']]"
   ]
  },
  {
   "cell_type": "code",
   "execution_count": 62,
   "metadata": {
    "collapsed": true
   },
   "outputs": [],
   "source": [
    "\n",
    "btw_35_39 = df[(df['Age'] >= 35) & (df['Age'] <39)]\n",
    "size_btw_35_39  = len(btw_35_39)\n",
    "percent_btw_35_39 = round((size_btw_35_39/data_size)*100,2)\n",
    "mean_price_btw_35_39 = round(btw_35_39.Price.mean(),2)\n",
    "total_purchase_btw_35_39 = round(btw_35_39.Price.sum(),2)"
   ]
  },
  {
   "cell_type": "code",
   "execution_count": 63,
   "metadata": {},
   "outputs": [
    {
     "name": "stderr",
     "output_type": "stream",
     "text": [
      "C:\\Users\\JChavez\\AppData\\Local\\Continuum\\anaconda3\\lib\\site-packages\\ipykernel_launcher.py:4: SettingWithCopyWarning: \n",
      "A value is trying to be set on a copy of a slice from a DataFrame.\n",
      "Try using .loc[row_indexer,col_indexer] = value instead\n",
      "\n",
      "See the caveats in the documentation: http://pandas.pydata.org/pandas-docs/stable/indexing.html#indexing-view-versus-copy\n",
      "  after removing the cwd from sys.path.\n"
     ]
    },
    {
     "data": {
      "text/plain": [
       "2.81"
      ]
     },
     "execution_count": 63,
     "metadata": {},
     "output_type": "execute_result"
    }
   ],
   "source": [
    "mean_btw_35_39 = round(btw_35_39.Price.dropna().mean(),2)\n",
    "max_btw_35_39 = btw_35_39.Price.dropna().max()\n",
    "min_btw_35_39 = btw_35_39.Price.dropna().min()\n",
    "btw_35_39['Price'] = btw_35_39['Price'] - mean_price_btw_35_39\n",
    "normalized_price_constant_btw_35_39 = btw_35_39['Price'].mean()\n",
    "normalized_price_btw_35_39 = round(mean_price_btw_35_39 - normalized_price_constant_btw_35_39,2)\n",
    "normalized_price_btw_35_39"
   ]
  },
  {
   "cell_type": "code",
   "execution_count": 64,
   "metadata": {
    "collapsed": true
   },
   "outputs": [],
   "source": [
    "percent_btw_35_39_df = {'Percentage of Players':[percent_btw_35_39], 'Total Count':[size_btw_35_39]}\n",
    "percent_btw_35_39_df = pd.DataFrame(percent_btw_35_39_df, index = ['34 - 39'])"
   ]
  },
  {
   "cell_type": "code",
   "execution_count": 65,
   "metadata": {
    "collapsed": true
   },
   "outputs": [],
   "source": [
    "percent_btw_35_39_df_analysis = {'Average Purchased Price':[mean_price_btw_35_39], 'Purchase Count':[size_btw_35_39],\n",
    "                         'Total Purchase Value': [total_purchase_btw_35_39], 'Normalized Total': [normalized_price_btw_35_39]}\n",
    "\n",
    "percent_btw_35_39_df_analysis = pd.DataFrame(percent_btw_35_39_df_analysis, index = ['34 - 39'])\n",
    "\n",
    "percent_btw_35_39_df_analysis = percent_btw_35_39_df_analysis[['Purchase Count', 'Average Purchased Price', \n",
    "                                                 'Total Purchase Value', 'Normalized Total']]"
   ]
  },
  {
   "cell_type": "code",
   "execution_count": 66,
   "metadata": {
    "collapsed": true
   },
   "outputs": [],
   "source": [
    "more_40 = df[df['Age'] >= 40]\n",
    "size_more_40  = len(more_40)\n",
    "percent_more_40 = round((size_more_40/data_size)*100,2)\n",
    "mean_price_more_40 = round(more_40.Price.mean(),2)\n",
    "total_purchase_more_40 = round(more_40.Price.sum(),2)"
   ]
  },
  {
   "cell_type": "code",
   "execution_count": 67,
   "metadata": {},
   "outputs": [
    {
     "name": "stderr",
     "output_type": "stream",
     "text": [
      "C:\\Users\\JChavez\\AppData\\Local\\Continuum\\anaconda3\\lib\\site-packages\\ipykernel_launcher.py:4: SettingWithCopyWarning: \n",
      "A value is trying to be set on a copy of a slice from a DataFrame.\n",
      "Try using .loc[row_indexer,col_indexer] = value instead\n",
      "\n",
      "See the caveats in the documentation: http://pandas.pydata.org/pandas-docs/stable/indexing.html#indexing-view-versus-copy\n",
      "  after removing the cwd from sys.path.\n"
     ]
    },
    {
     "data": {
      "text/plain": [
       "3.16"
      ]
     },
     "execution_count": 67,
     "metadata": {},
     "output_type": "execute_result"
    }
   ],
   "source": [
    "mean_more_40 = round(more_40.Price.dropna().mean(),2)\n",
    "max_more_40 = more_40.Price.dropna().max()\n",
    "min_more_40 = more_40.Price.dropna().min()\n",
    "more_40['Price'] = more_40['Price'] - mean_price_more_40\n",
    "normalized_price_constant_more_40 = more_40['Price'].mean()\n",
    "normalized_price_more_40 = round(mean_price_more_40 - normalized_price_constant_more_40,2)\n",
    "normalized_price_more_40"
   ]
  },
  {
   "cell_type": "code",
   "execution_count": 68,
   "metadata": {
    "collapsed": true
   },
   "outputs": [],
   "source": [
    "percent_more_40_df = {'Percentage of Players':[percent_more_40], 'Total Count':[size_more_40]}\n",
    "percent_more_40_df = pd.DataFrame(percent_more_40_df, index = ['40+'])"
   ]
  },
  {
   "cell_type": "code",
   "execution_count": 69,
   "metadata": {
    "collapsed": true
   },
   "outputs": [],
   "source": [
    "\n",
    "percent_more_40_df_analysis = {'Average Purchased Price':[mean_price_more_40], 'Purchase Count':[size_more_40],\n",
    "                         'Total Purchase Value': [total_purchase_more_40], 'Normalized Total': [normalized_price_more_40]}\n",
    "\n",
    "percent_more_40_df_analysis = pd.DataFrame(percent_more_40_df_analysis, index = ['40+'])\n",
    "\n",
    "percent_more_40_df_analysis = percent_more_40_df_analysis[['Purchase Count', 'Average Purchased Price', \n",
    "                                                 'Total Purchase Value', 'Normalized Total']]"
   ]
  },
  {
   "cell_type": "code",
   "execution_count": 70,
   "metadata": {},
   "outputs": [
    {
     "data": {
      "text/html": [
       "<div>\n",
       "<style>\n",
       "    .dataframe thead tr:only-child th {\n",
       "        text-align: right;\n",
       "    }\n",
       "\n",
       "    .dataframe thead th {\n",
       "        text-align: left;\n",
       "    }\n",
       "\n",
       "    .dataframe tbody tr th {\n",
       "        vertical-align: top;\n",
       "    }\n",
       "</style>\n",
       "<table border=\"1\" class=\"dataframe\">\n",
       "  <thead>\n",
       "    <tr style=\"text-align: right;\">\n",
       "      <th></th>\n",
       "      <th>Percentage of Players</th>\n",
       "      <th>Total Count</th>\n",
       "    </tr>\n",
       "  </thead>\n",
       "  <tbody>\n",
       "    <tr>\n",
       "      <th>&lt;10</th>\n",
       "      <td>3.59%</td>\n",
       "      <td>28</td>\n",
       "    </tr>\n",
       "    <tr>\n",
       "      <th>10 - 14</th>\n",
       "      <td>4.49%</td>\n",
       "      <td>35</td>\n",
       "    </tr>\n",
       "    <tr>\n",
       "      <th>15 - 19</th>\n",
       "      <td>17.05%</td>\n",
       "      <td>133</td>\n",
       "    </tr>\n",
       "    <tr>\n",
       "      <th>20 - 24</th>\n",
       "      <td>43.08%</td>\n",
       "      <td>336</td>\n",
       "    </tr>\n",
       "    <tr>\n",
       "      <th>25 - 29</th>\n",
       "      <td>16.03%</td>\n",
       "      <td>125</td>\n",
       "    </tr>\n",
       "    <tr>\n",
       "      <th>29 - 34</th>\n",
       "      <td>7.18%</td>\n",
       "      <td>56</td>\n",
       "    </tr>\n",
       "    <tr>\n",
       "      <th>34 - 39</th>\n",
       "      <td>4.74%</td>\n",
       "      <td>37</td>\n",
       "    </tr>\n",
       "    <tr>\n",
       "      <th>40+</th>\n",
       "      <td>2.18%</td>\n",
       "      <td>17</td>\n",
       "    </tr>\n",
       "  </tbody>\n",
       "</table>\n",
       "</div>"
      ],
      "text/plain": [
       "        Percentage of Players  Total Count\n",
       "<10                     3.59%           28\n",
       "10 - 14                 4.49%           35\n",
       "15 - 19                17.05%          133\n",
       "20 - 24                43.08%          336\n",
       "25 - 29                16.03%          125\n",
       "29 - 34                 7.18%           56\n",
       "34 - 39                 4.74%           37\n",
       "40+                     2.18%           17"
      ]
     },
     "execution_count": 70,
     "metadata": {},
     "output_type": "execute_result"
    }
   ],
   "source": [
    "frames_age = [percent_10_df, percent_btw_10_14_df, percent_btw_15_19_df, percent_btw_19_24_df,\n",
    "              percent_btw_25_29_df, percent_btw_30_34_df, percent_btw_35_39_df, percent_more_40_df]\n",
    "\n",
    "\n",
    "result_age = pd.concat(frames_age)\n",
    "\n",
    "result_age['Percentage of Players'] = result_age['Percentage of Players'].astype(str) + '%'\n",
    "\n",
    "result_age"
   ]
  },
  {
   "cell_type": "code",
   "execution_count": 71,
   "metadata": {},
   "outputs": [
    {
     "data": {
      "text/html": [
       "<div>\n",
       "<style>\n",
       "    .dataframe thead tr:only-child th {\n",
       "        text-align: right;\n",
       "    }\n",
       "\n",
       "    .dataframe thead th {\n",
       "        text-align: left;\n",
       "    }\n",
       "\n",
       "    .dataframe tbody tr th {\n",
       "        vertical-align: top;\n",
       "    }\n",
       "</style>\n",
       "<table border=\"1\" class=\"dataframe\">\n",
       "  <thead>\n",
       "    <tr style=\"text-align: right;\">\n",
       "      <th></th>\n",
       "      <th>Purchase Count</th>\n",
       "      <th>Average Purchased Price</th>\n",
       "      <th>Total Purchase Value</th>\n",
       "      <th>Normalized Total</th>\n",
       "    </tr>\n",
       "  </thead>\n",
       "  <tbody>\n",
       "    <tr>\n",
       "      <th>&lt;10</th>\n",
       "      <td>28</td>\n",
       "      <td>$2.98</td>\n",
       "      <td>$83.46</td>\n",
       "      <td>$2.98</td>\n",
       "    </tr>\n",
       "    <tr>\n",
       "      <th>10 - 14</th>\n",
       "      <td>35</td>\n",
       "      <td>$2.77</td>\n",
       "      <td>$96.95</td>\n",
       "      <td>$2.77</td>\n",
       "    </tr>\n",
       "    <tr>\n",
       "      <th>15 - 19</th>\n",
       "      <td>133</td>\n",
       "      <td>$2.91</td>\n",
       "      <td>$386.42</td>\n",
       "      <td>$2.91</td>\n",
       "    </tr>\n",
       "    <tr>\n",
       "      <th>20 - 24</th>\n",
       "      <td>336</td>\n",
       "      <td>$2.91</td>\n",
       "      <td>$978.77</td>\n",
       "      <td>$2.91</td>\n",
       "    </tr>\n",
       "    <tr>\n",
       "      <th>25 - 29</th>\n",
       "      <td>125</td>\n",
       "      <td>$2.96</td>\n",
       "      <td>$370.33</td>\n",
       "      <td>$2.96</td>\n",
       "    </tr>\n",
       "    <tr>\n",
       "      <th>29 - 34</th>\n",
       "      <td>56</td>\n",
       "      <td>$3.09</td>\n",
       "      <td>$172.93</td>\n",
       "      <td>$3.09</td>\n",
       "    </tr>\n",
       "    <tr>\n",
       "      <th>34 - 39</th>\n",
       "      <td>37</td>\n",
       "      <td>$2.81</td>\n",
       "      <td>$104.06</td>\n",
       "      <td>$2.81</td>\n",
       "    </tr>\n",
       "    <tr>\n",
       "      <th>40+</th>\n",
       "      <td>17</td>\n",
       "      <td>$3.16</td>\n",
       "      <td>$53.75</td>\n",
       "      <td>$3.16</td>\n",
       "    </tr>\n",
       "  </tbody>\n",
       "</table>\n",
       "</div>"
      ],
      "text/plain": [
       "         Purchase Count Average Purchased Price Total Purchase Value  \\\n",
       "<10                  28                   $2.98               $83.46   \n",
       "10 - 14              35                   $2.77               $96.95   \n",
       "15 - 19             133                   $2.91              $386.42   \n",
       "20 - 24             336                   $2.91              $978.77   \n",
       "25 - 29             125                   $2.96              $370.33   \n",
       "29 - 34              56                   $3.09              $172.93   \n",
       "34 - 39              37                   $2.81              $104.06   \n",
       "40+                  17                   $3.16               $53.75   \n",
       "\n",
       "        Normalized Total  \n",
       "<10                $2.98  \n",
       "10 - 14            $2.77  \n",
       "15 - 19            $2.91  \n",
       "20 - 24            $2.91  \n",
       "25 - 29            $2.96  \n",
       "29 - 34            $3.09  \n",
       "34 - 39            $2.81  \n",
       "40+                $3.16  "
      ]
     },
     "execution_count": 71,
     "metadata": {},
     "output_type": "execute_result"
    }
   ],
   "source": [
    "frames_age_analysis = [percent_10_df_analysis, percent_btw_10_14_df_analysis, percent_btw_15_19_df_analysis, \n",
    "                       percent_btw_19_24_df_analysis,percent_btw_25_29_df_analysis, \n",
    "                       percent_btw_30_34_df_analysis, percent_btw_35_39_df_analysis, percent_more_40_df_analysis]\n",
    "\n",
    "\n",
    "result_age_analysis = pd.concat(frames_age_analysis)\n",
    "result_age_analysis['Average Purchased Price'] = '$' + result_age_analysis['Average Purchased Price'].astype(str) \n",
    "result_age_analysis['Total Purchase Value'] = '$' + result_age_analysis['Total Purchase Value'].astype(str) \n",
    "result_age_analysis['Normalized Total'] = '$' + result_age_analysis['Normalized Total'].astype(str) \n",
    "\n",
    "result_age_analysis"
   ]
  },
  {
   "cell_type": "code",
   "execution_count": 73,
   "metadata": {},
   "outputs": [],
   "source": [
    "df_spenders = df.drop(['Age', 'Gender', 'Item_id', 'Item_name'], axis = 1)\n",
    "sn_counts = df_spenders.groupby('SN').count()\n",
    "sn_counts = sn_counts.rename(columns={'Price':'Purchase Count'})"
   ]
  },
  {
   "cell_type": "code",
   "execution_count": 74,
   "metadata": {
    "collapsed": true
   },
   "outputs": [],
   "source": [
    "\n",
    "sn_total = df_spenders.groupby('SN')\n",
    "sn_total_sum = sn_total.sum()\n",
    "sn_total_sum = sn_total_sum.rename(columns={'Price':'Total Purchase Value'})\n",
    "sn_data = pd.concat([sn_counts, sn_total_sum], axis=1)"
   ]
  },
  {
   "cell_type": "code",
   "execution_count": 75,
   "metadata": {},
   "outputs": [
    {
     "data": {
      "text/html": [
       "<div>\n",
       "<style>\n",
       "    .dataframe thead tr:only-child th {\n",
       "        text-align: right;\n",
       "    }\n",
       "\n",
       "    .dataframe thead th {\n",
       "        text-align: left;\n",
       "    }\n",
       "\n",
       "    .dataframe tbody tr th {\n",
       "        vertical-align: top;\n",
       "    }\n",
       "</style>\n",
       "<table border=\"1\" class=\"dataframe\">\n",
       "  <thead>\n",
       "    <tr style=\"text-align: right;\">\n",
       "      <th></th>\n",
       "      <th>Purchase Count</th>\n",
       "      <th>Average Purchase Price</th>\n",
       "      <th>Total Purchase Value</th>\n",
       "    </tr>\n",
       "    <tr>\n",
       "      <th>SN</th>\n",
       "      <th></th>\n",
       "      <th></th>\n",
       "      <th></th>\n",
       "    </tr>\n",
       "  </thead>\n",
       "  <tbody>\n",
       "    <tr>\n",
       "      <th>Undirrala66</th>\n",
       "      <td>5</td>\n",
       "      <td>3.41</td>\n",
       "      <td>17.06</td>\n",
       "    </tr>\n",
       "    <tr>\n",
       "      <th>Saedue76</th>\n",
       "      <td>4</td>\n",
       "      <td>3.39</td>\n",
       "      <td>13.56</td>\n",
       "    </tr>\n",
       "    <tr>\n",
       "      <th>Mindimnya67</th>\n",
       "      <td>4</td>\n",
       "      <td>3.18</td>\n",
       "      <td>12.74</td>\n",
       "    </tr>\n",
       "    <tr>\n",
       "      <th>Haellysu29</th>\n",
       "      <td>3</td>\n",
       "      <td>4.24</td>\n",
       "      <td>12.73</td>\n",
       "    </tr>\n",
       "    <tr>\n",
       "      <th>Eoda93</th>\n",
       "      <td>3</td>\n",
       "      <td>3.86</td>\n",
       "      <td>11.58</td>\n",
       "    </tr>\n",
       "  </tbody>\n",
       "</table>\n",
       "</div>"
      ],
      "text/plain": [
       "             Purchase Count  Average Purchase Price  Total Purchase Value\n",
       "SN                                                                       \n",
       "Undirrala66               5                    3.41                 17.06\n",
       "Saedue76                  4                    3.39                 13.56\n",
       "Mindimnya67               4                    3.18                 12.74\n",
       "Haellysu29                3                    4.24                 12.73\n",
       "Eoda93                    3                    3.86                 11.58"
      ]
     },
     "execution_count": 75,
     "metadata": {},
     "output_type": "execute_result"
    }
   ],
   "source": [
    "## Top Spenders\n",
    "\n",
    "\n",
    "sn_data['Average Purchase Price'] = sn_data['Total Purchase Value']/sn_data['Purchase Count']\n",
    "sn_data = sn_data[['Purchase Count', 'Average Purchase Price', 'Total Purchase Value']]\n",
    "sn_data['Average Purchase Price']= sn_data['Average Purchase Price'].round(2)\n",
    "sn_data.nlargest(5, 'Total Purchase Value')"
   ]
  },
  {
   "cell_type": "code",
   "execution_count": 77,
   "metadata": {
    "scrolled": true
   },
   "outputs": [
    {
     "data": {
      "text/html": [
       "<div>\n",
       "<style>\n",
       "    .dataframe thead tr:only-child th {\n",
       "        text-align: right;\n",
       "    }\n",
       "\n",
       "    .dataframe thead th {\n",
       "        text-align: left;\n",
       "    }\n",
       "\n",
       "    .dataframe tbody tr th {\n",
       "        vertical-align: top;\n",
       "    }\n",
       "</style>\n",
       "<table border=\"1\" class=\"dataframe\">\n",
       "  <thead>\n",
       "    <tr style=\"text-align: right;\">\n",
       "      <th></th>\n",
       "      <th></th>\n",
       "      <th>Purchase Count</th>\n",
       "      <th>Total Purchase Value</th>\n",
       "    </tr>\n",
       "    <tr>\n",
       "      <th>Item_id</th>\n",
       "      <th>Item_name</th>\n",
       "      <th></th>\n",
       "      <th></th>\n",
       "    </tr>\n",
       "  </thead>\n",
       "  <tbody>\n",
       "    <tr>\n",
       "      <th>34</th>\n",
       "      <th>Retribution Axe</th>\n",
       "      <td>9</td>\n",
       "      <td>37.26</td>\n",
       "    </tr>\n",
       "    <tr>\n",
       "      <th>115</th>\n",
       "      <th>Spectral Diamond Doomblade</th>\n",
       "      <td>7</td>\n",
       "      <td>29.75</td>\n",
       "    </tr>\n",
       "    <tr>\n",
       "      <th>32</th>\n",
       "      <th>Orenmir</th>\n",
       "      <td>6</td>\n",
       "      <td>29.70</td>\n",
       "    </tr>\n",
       "    <tr>\n",
       "      <th>103</th>\n",
       "      <th>Singed Scalpel</th>\n",
       "      <td>6</td>\n",
       "      <td>29.22</td>\n",
       "    </tr>\n",
       "    <tr>\n",
       "      <th>107</th>\n",
       "      <th>Splitter, Foe Of Subtlety</th>\n",
       "      <td>8</td>\n",
       "      <td>28.88</td>\n",
       "    </tr>\n",
       "  </tbody>\n",
       "</table>\n",
       "</div>"
      ],
      "text/plain": [
       "                                    Purchase Count  Total Purchase Value\n",
       "Item_id Item_name                                                       \n",
       "34      Retribution Axe                          9                 37.26\n",
       "115     Spectral Diamond Doomblade               7                 29.75\n",
       "32      Orenmir                                  6                 29.70\n",
       "103     Singed Scalpel                           6                 29.22\n",
       "107     Splitter, Foe Of Subtlety                8                 28.88"
      ]
     },
     "execution_count": 77,
     "metadata": {},
     "output_type": "execute_result"
    }
   ],
   "source": [
    "# Most Popular Items\n",
    "\n",
    "df_popular = df.drop(['Age', 'Gender', 'SN',], axis = 1)\n",
    "df_polular_total = df_popular.groupby(['Item_id', 'Item_name'])\n",
    "df_polular_total_sum = df_polular_total.sum()\n",
    "df_polular_total_sum = df_polular_total_sum.rename(columns={'Price':'Total Purchase Value'})\n",
    "df_polular_counts = df_popular.groupby(['Item_id', 'Item_name']).count()\n",
    "df_polular_counts = df_polular_counts.rename(columns={'Price':'Purchase Count'})\n",
    "popular_data = pd.concat([df_polular_counts, df_polular_total_sum], axis=1)\n",
    "popular_data.nlargest(5, 'Total Purchase Value')"
   ]
  },
  {
   "cell_type": "code",
   "execution_count": 78,
   "metadata": {
    "collapsed": true
   },
   "outputs": [],
   "source": [
    "popular_data['Average Purchase Price'] = popular_data['Total Purchase Value']/popular_data['Purchase Count']"
   ]
  },
  {
   "cell_type": "code",
   "execution_count": 79,
   "metadata": {
    "collapsed": true
   },
   "outputs": [],
   "source": [
    "popular_data = popular_data[['Purchase Count', 'Average Purchase Price', 'Total Purchase Value']]"
   ]
  },
  {
   "cell_type": "code",
   "execution_count": 81,
   "metadata": {},
   "outputs": [
    {
     "data": {
      "text/html": [
       "<div>\n",
       "<style>\n",
       "    .dataframe thead tr:only-child th {\n",
       "        text-align: right;\n",
       "    }\n",
       "\n",
       "    .dataframe thead th {\n",
       "        text-align: left;\n",
       "    }\n",
       "\n",
       "    .dataframe tbody tr th {\n",
       "        vertical-align: top;\n",
       "    }\n",
       "</style>\n",
       "<table border=\"1\" class=\"dataframe\">\n",
       "  <thead>\n",
       "    <tr style=\"text-align: right;\">\n",
       "      <th></th>\n",
       "      <th></th>\n",
       "      <th>Purchase Count</th>\n",
       "      <th>Average Purchase Price</th>\n",
       "      <th>Total Purchase Value</th>\n",
       "    </tr>\n",
       "    <tr>\n",
       "      <th>Item_id</th>\n",
       "      <th>Item_name</th>\n",
       "      <th></th>\n",
       "      <th></th>\n",
       "      <th></th>\n",
       "    </tr>\n",
       "  </thead>\n",
       "  <tbody>\n",
       "    <tr>\n",
       "      <th>34</th>\n",
       "      <th>Retribution Axe</th>\n",
       "      <td>9</td>\n",
       "      <td>4.14</td>\n",
       "      <td>37.26</td>\n",
       "    </tr>\n",
       "    <tr>\n",
       "      <th>115</th>\n",
       "      <th>Spectral Diamond Doomblade</th>\n",
       "      <td>7</td>\n",
       "      <td>4.25</td>\n",
       "      <td>29.75</td>\n",
       "    </tr>\n",
       "    <tr>\n",
       "      <th>32</th>\n",
       "      <th>Orenmir</th>\n",
       "      <td>6</td>\n",
       "      <td>4.95</td>\n",
       "      <td>29.70</td>\n",
       "    </tr>\n",
       "    <tr>\n",
       "      <th>103</th>\n",
       "      <th>Singed Scalpel</th>\n",
       "      <td>6</td>\n",
       "      <td>4.87</td>\n",
       "      <td>29.22</td>\n",
       "    </tr>\n",
       "    <tr>\n",
       "      <th>107</th>\n",
       "      <th>Splitter, Foe Of Subtlety</th>\n",
       "      <td>8</td>\n",
       "      <td>3.61</td>\n",
       "      <td>28.88</td>\n",
       "    </tr>\n",
       "  </tbody>\n",
       "</table>\n",
       "</div>"
      ],
      "text/plain": [
       "                                    Purchase Count  Average Purchase Price  \\\n",
       "Item_id Item_name                                                            \n",
       "34      Retribution Axe                          9                    4.14   \n",
       "115     Spectral Diamond Doomblade               7                    4.25   \n",
       "32      Orenmir                                  6                    4.95   \n",
       "103     Singed Scalpel                           6                    4.87   \n",
       "107     Splitter, Foe Of Subtlety                8                    3.61   \n",
       "\n",
       "                                    Total Purchase Value  \n",
       "Item_id Item_name                                         \n",
       "34      Retribution Axe                            37.26  \n",
       "115     Spectral Diamond Doomblade                 29.75  \n",
       "32      Orenmir                                    29.70  \n",
       "103     Singed Scalpel                             29.22  \n",
       "107     Splitter, Foe Of Subtlety                  28.88  "
      ]
     },
     "execution_count": 81,
     "metadata": {},
     "output_type": "execute_result"
    }
   ],
   "source": [
    "# Most Profitable Items\n",
    "\n",
    "profitable_data = popular_data\n",
    "\n",
    "profitable_data.nlargest(5, 'Total Purchase Value')"
   ]
  },
  {
   "cell_type": "code",
   "execution_count": null,
   "metadata": {
    "collapsed": true
   },
   "outputs": [],
   "source": []
  }
 ],
 "metadata": {
  "kernelspec": {
   "display_name": "Python 3",
   "language": "python",
   "name": "python3"
  },
  "language_info": {
   "codemirror_mode": {
    "name": "ipython",
    "version": 3
   },
   "file_extension": ".py",
   "mimetype": "text/x-python",
   "name": "python",
   "nbconvert_exporter": "python",
   "pygments_lexer": "ipython3",
   "version": "3.6.2"
  }
 },
 "nbformat": 4,
 "nbformat_minor": 2
}
